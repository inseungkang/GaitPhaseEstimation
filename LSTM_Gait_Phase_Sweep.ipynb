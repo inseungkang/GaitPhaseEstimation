{
 "cells": [
  {
   "cell_type": "markdown",
   "metadata": {
    "colab_type": "text",
    "id": "JlyjEIbEjQDF"
   },
   "source": [
    "## LSTM for Gait Phase Estimation"
   ]
  },
  {
   "cell_type": "markdown",
   "metadata": {
    "colab_type": "text",
    "id": "cM3GEQzjjQDG"
   },
   "source": [
    "The purpose of this notebook is to train LSTM models to estimate a user's gait phase on both legs, independent of the locomotion mode."
   ]
  },
  {
   "cell_type": "code",
   "execution_count": 1,
   "metadata": {
    "colab": {},
    "colab_type": "code",
    "id": "GtMup6itjQDH"
   },
   "outputs": [],
   "source": [
    "from lstm_modules import *\n",
    "from convolutional_nn import *\n",
    "import numpy as np\n",
    "import tensorflow as tf\n",
    "import itertools\n",
    "import pandas as pd"
   ]
  },
  {
   "cell_type": "code",
   "execution_count": 2,
   "metadata": {
    "colab": {},
    "colab_type": "code",
    "id": "W7lV9YpljQDN"
   },
   "outputs": [],
   "source": [
    "# Seed Random Number Generators"
   ]
  },
  {
   "cell_type": "markdown",
   "metadata": {
    "colab_type": "text",
    "id": "8KMUwS-ZjQDT"
   },
   "source": [
    "### Tune Hyperparameters"
   ]
  },
  {
   "cell_type": "code",
   "execution_count": 3,
   "metadata": {
    "colab": {},
    "colab_type": "code",
    "id": "Uy-ab61Fk78E"
   },
   "outputs": [],
   "source": [
    "hyperparam_space = {\n",
    "    'window_size': [20],\n",
    "    'lstm': {\n",
    "      'units': [30],\n",
    "      'activation': ['relu', 'tanh'],\n",
    "    },\n",
    "    'dense': {\n",
    "        'activation': ['tanh']\n",
    "    },\n",
    "    'optimizer': {\n",
    "        'loss': ['mean_squared_error'],\n",
    "        'optimizer': ['rmsprop']\n",
    "    }\n",
    "}"
   ]
  },
  {
   "cell_type": "code",
   "execution_count": 4,
   "metadata": {
    "colab": {},
    "colab_type": "code",
    "id": "k8HSJZSnr7o9"
   },
   "outputs": [],
   "source": [
    "def get_model_configs(hyperparam_space):\n",
    "    model_configs = []\n",
    "    for window_size in hyperparam_space['window_size']:\n",
    "        lstm_params = list(hyperparam_space['lstm'].keys())\n",
    "\n",
    "        lstm_possibilities = []\n",
    "\n",
    "        for param in lstm_params:\n",
    "            lstm_possibilities.append(hyperparam_space['lstm'][param])\n",
    "\n",
    "        lstm_config_tuples = itertools.product(*lstm_possibilities)\n",
    "        lstm_configs = []\n",
    "        for config in lstm_config_tuples:\n",
    "            lstm_config = {}\n",
    "            for i, value in enumerate(config):\n",
    "                lstm_config[lstm_params[i]] = value\n",
    "            lstm_configs.append(lstm_config)\n",
    "\n",
    "        dense_params = list(hyperparam_space['dense'].keys())\n",
    "\n",
    "        dense_possibilities = []\n",
    "\n",
    "        for param in dense_params:\n",
    "            dense_possibilities.append(hyperparam_space['dense'][param])\n",
    "\n",
    "        dense_config_tuples = itertools.product(*dense_possibilities)\n",
    "        dense_configs = []\n",
    "        for config in dense_config_tuples:\n",
    "            dense_config = {}\n",
    "            for i, value in enumerate(config):\n",
    "                dense_config[dense_params[i]] = value\n",
    "            dense_configs.append(dense_config)\n",
    "\n",
    "        optim_params = list(hyperparam_space['optimizer'].keys())\n",
    "\n",
    "        optim_possibilities = []\n",
    "\n",
    "        for param in optim_params:\n",
    "            optim_possibilities.append(hyperparam_space['optimizer'][param])\n",
    "\n",
    "        optim_config_tuples = itertools.product(*optim_possibilities)\n",
    "        optim_configs = []\n",
    "        for config in optim_config_tuples:\n",
    "            optim_config = {}\n",
    "            for i, value in enumerate(config):\n",
    "                optim_config[optim_params[i]] = value\n",
    "            optim_configs.append(optim_config)\n",
    "\n",
    "        possible_configs = itertools.product(lstm_configs, dense_configs, optim_configs)\n",
    "        config_count = 0\n",
    "        for config in possible_configs:\n",
    "            config_count += 1\n",
    "            model_configs.append({\n",
    "                'window_size': window_size,\n",
    "                'lstm': config[0],\n",
    "                'dense': config[1],\n",
    "                'optimizer': config[2]\n",
    "            })\n",
    "    return model_configs            "
   ]
  },
  {
   "cell_type": "code",
   "execution_count": 5,
   "metadata": {
    "colab": {
     "base_uri": "https://localhost:8080/",
     "height": 35
    },
    "colab_type": "code",
    "id": "rnSCRfsq4CEo",
    "outputId": "ee6eab4f-4f65-4d4a-ef08-f277569d424f"
   },
   "outputs": [
    {
     "name": "stdout",
     "output_type": "stream",
     "text": [
      "2\n"
     ]
    }
   ],
   "source": [
    "hyperparameter_configs = get_model_configs(hyperparam_space)\n",
    "print(len(hyperparameter_configs))"
   ]
  },
  {
   "cell_type": "code",
   "execution_count": 6,
   "metadata": {
    "colab": {
     "base_uri": "https://localhost:8080/",
     "height": 1000
    },
    "colab_type": "code",
    "id": "3vJNubQa4iFu",
    "outputId": "b7670284-f01e-473b-f2dc-ca9f276a52a6"
   },
   "outputs": [
    {
     "name": "stdout",
     "output_type": "stream",
     "text": [
      "Model: \"sequential\"\n",
      "_________________________________________________________________\n",
      "Layer (type)                 Output Shape              Param #   \n",
      "=================================================================\n",
      "normalization (Normalization (None, 20, 10)            21        \n",
      "_________________________________________________________________\n",
      "lstm (LSTM)                  (None, 30)                4920      \n",
      "_________________________________________________________________\n",
      "dense (Dense)                (None, 4)                 124       \n",
      "=================================================================\n",
      "Total params: 5,065\n",
      "Trainable params: 5,044\n",
      "Non-trainable params: 21\n",
      "_________________________________________________________________\n",
      "Train on 28216 samples, validate on 7055 samples\n",
      "Epoch 1/2\n",
      "28216/28216 [==============================] - 7s 255us/sample - loss: 0.0528 - val_loss: 0.0296\n",
      "Epoch 2/2\n",
      "28216/28216 [==============================] - 3s 124us/sample - loss: 0.0112 - val_loss: 0.0279\n",
      "Model: \"sequential_1\"\n",
      "_________________________________________________________________\n",
      "Layer (type)                 Output Shape              Param #   \n",
      "=================================================================\n",
      "normalization_1 (Normalizati (None, 20, 10)            21        \n",
      "_________________________________________________________________\n",
      "lstm_1 (LSTM)                (None, 30)                4920      \n",
      "_________________________________________________________________\n",
      "dense_1 (Dense)              (None, 4)                 124       \n",
      "=================================================================\n",
      "Total params: 5,065\n",
      "Trainable params: 5,044\n",
      "Non-trainable params: 21\n",
      "_________________________________________________________________\n",
      "Train on 27510 samples, validate on 6878 samples\n",
      "Epoch 1/2\n",
      "27510/27510 [==============================] - 6s 204us/sample - loss: 0.0785 - val_loss: 0.0307\n",
      "Epoch 2/2\n",
      "27510/27510 [==============================] - 4s 148us/sample - loss: 0.0125 - val_loss: 0.0286\n",
      "Model: \"sequential_2\"\n",
      "_________________________________________________________________\n",
      "Layer (type)                 Output Shape              Param #   \n",
      "=================================================================\n",
      "normalization_2 (Normalizati (None, 20, 10)            21        \n",
      "_________________________________________________________________\n",
      "lstm_2 (LSTM)                (None, 30)                4920      \n",
      "_________________________________________________________________\n",
      "dense_2 (Dense)              (None, 4)                 124       \n",
      "=================================================================\n",
      "Total params: 5,065\n",
      "Trainable params: 5,044\n",
      "Non-trainable params: 21\n",
      "_________________________________________________________________\n",
      "Train on 28216 samples, validate on 7055 samples\n",
      "Epoch 1/2\n",
      "28216/28216 [==============================] - 8s 291us/sample - loss: 0.0448 - val_loss: 0.0278\n",
      "Epoch 2/2\n",
      "28216/28216 [==============================] - 4s 132us/sample - loss: 0.0094 - val_loss: 0.0274\n",
      "Model: \"sequential_3\"\n",
      "_________________________________________________________________\n",
      "Layer (type)                 Output Shape              Param #   \n",
      "=================================================================\n",
      "normalization_3 (Normalizati (None, 20, 10)            21        \n",
      "_________________________________________________________________\n",
      "lstm_3 (LSTM)                (None, 30)                4920      \n",
      "_________________________________________________________________\n",
      "dense_3 (Dense)              (None, 4)                 124       \n",
      "=================================================================\n",
      "Total params: 5,065\n",
      "Trainable params: 5,044\n",
      "Non-trainable params: 21\n",
      "_________________________________________________________________\n",
      "Train on 27510 samples, validate on 6878 samples\n",
      "Epoch 1/2\n",
      "27510/27510 [==============================] - 7s 241us/sample - loss: 0.0625 - val_loss: 0.0282\n",
      "Epoch 2/2\n",
      "27510/27510 [==============================] - 3s 125us/sample - loss: 0.0090 - val_loss: 0.0274\n"
     ]
    }
   ],
   "source": [
    "results = []\n",
    "for model_config in hyperparameter_configs:\n",
    "    current_result = {}\n",
    "    current_result['model_config'] = model_config\n",
    "    current_result['left_validation_rmse'] = []\n",
    "    current_result['right_validation_rmse'] = []\n",
    "    for trial in np.arange(1,3):\n",
    "        dataset = cnn_train_test_split(trial, model_config['window_size'])\n",
    "        model = lstm_model(sequence_length=model_config['window_size'],\n",
    "                          n_features=10, \n",
    "                           lstm_config=model_config['lstm'],\n",
    "                           dense_config=model_config['dense'],\n",
    "                           optim_config=model_config['optimizer'],\n",
    "                           X_train=dataset['X_train'])\n",
    "        model.summary()\n",
    "        early_stopping_callback = EarlyStopping(monitor='val_loss', min_delta=0, patience=10, verbose=0)\n",
    "        model_hist = model.fit(dataset['X_train'], dataset['y_train'], epochs=2, batch_size=128, verbose=1, validation_split=0.2, shuffle=True, callbacks= [early_stopping_callback])\n",
    "        # model.save('test_rnn_model')\n",
    "\n",
    "        predictions = model.predict(dataset['X_test'])\n",
    "        left_rmse, right_rmse, gp = custom_rmse(dataset['y_test'], predictions)\n",
    "\n",
    "        current_result['left_validation_rmse'].append(left_rmse)\n",
    "        current_result['right_validation_rmse'].append(right_rmse)\n",
    "    results.append(current_result)"
   ]
  },
  {
   "cell_type": "code",
   "execution_count": 7,
   "metadata": {
    "colab": {},
    "colab_type": "code",
    "id": "25P-wi-e9_6t"
   },
   "outputs": [],
   "source": [
    "for model in results:\n",
    "    model['left_rmse_mean'] = np.mean(model['left_validation_rmse'])\n",
    "    model['right_rmse_mean'] = np.mean(model['right_validation_rmse'])"
   ]
  },
  {
   "cell_type": "code",
   "execution_count": 8,
   "metadata": {
    "colab": {},
    "colab_type": "code",
    "id": "hHPPcgbUYMUJ"
   },
   "outputs": [],
   "source": [
    "def mapper(x):\n",
    "    out = {}\n",
    "    out['window_size'] = x['model_config']['window_size']\n",
    "    for key in x['model_config']['lstm'].keys():\n",
    "        out['lstm_{}'.format(key)] = x['model_config']['lstm'][key]\n",
    "\n",
    "    for key in x['model_config']['dense'].keys():\n",
    "        out['dense_{}'.format(key)] = x['model_config']['dense'][key]\n",
    "\n",
    "    for key in x['model_config']['optimizer'].keys():\n",
    "        out['optim_{}'.format(key)] = x['model_config']['optimizer'][key]\n",
    "\n",
    "    out['left_rmse_mean'] = x['left_rmse_mean']\n",
    "    out['right_rmse_mean'] = x['right_rmse_mean']\n",
    "    return out\n",
    "  \n",
    "input_df = list(map(mapper, results))"
   ]
  },
  {
   "cell_type": "code",
   "execution_count": 9,
   "metadata": {
    "colab": {
     "base_uri": "https://localhost:8080/",
     "height": 147
    },
    "colab_type": "code",
    "id": "3PZYXyYTZLiG",
    "outputId": "85ccc5fe-07a9-421d-fccb-d77514c8d017"
   },
   "outputs": [
    {
     "name": "stdout",
     "output_type": "stream",
     "text": [
      "2\n"
     ]
    },
    {
     "data": {
      "text/html": [
       "<div>\n",
       "<style scoped>\n",
       "    .dataframe tbody tr th:only-of-type {\n",
       "        vertical-align: middle;\n",
       "    }\n",
       "\n",
       "    .dataframe tbody tr th {\n",
       "        vertical-align: top;\n",
       "    }\n",
       "\n",
       "    .dataframe thead th {\n",
       "        text-align: right;\n",
       "    }\n",
       "</style>\n",
       "<table border=\"1\" class=\"dataframe\">\n",
       "  <thead>\n",
       "    <tr style=\"text-align: right;\">\n",
       "      <th></th>\n",
       "      <th>window_size</th>\n",
       "      <th>lstm_units</th>\n",
       "      <th>lstm_activation</th>\n",
       "      <th>dense_activation</th>\n",
       "      <th>optim_loss</th>\n",
       "      <th>optim_optimizer</th>\n",
       "      <th>left_rmse_mean</th>\n",
       "      <th>right_rmse_mean</th>\n",
       "    </tr>\n",
       "  </thead>\n",
       "  <tbody>\n",
       "    <tr>\n",
       "      <th>0</th>\n",
       "      <td>20</td>\n",
       "      <td>30</td>\n",
       "      <td>relu</td>\n",
       "      <td>tanh</td>\n",
       "      <td>mean_squared_error</td>\n",
       "      <td>rmsprop</td>\n",
       "      <td>2.217802</td>\n",
       "      <td>2.386229</td>\n",
       "    </tr>\n",
       "    <tr>\n",
       "      <th>1</th>\n",
       "      <td>20</td>\n",
       "      <td>30</td>\n",
       "      <td>tanh</td>\n",
       "      <td>tanh</td>\n",
       "      <td>mean_squared_error</td>\n",
       "      <td>rmsprop</td>\n",
       "      <td>2.155490</td>\n",
       "      <td>2.340311</td>\n",
       "    </tr>\n",
       "  </tbody>\n",
       "</table>\n",
       "</div>"
      ],
      "text/plain": [
       "   window_size  lstm_units lstm_activation dense_activation  \\\n",
       "0           20          30            relu             tanh   \n",
       "1           20          30            tanh             tanh   \n",
       "\n",
       "           optim_loss optim_optimizer  left_rmse_mean  right_rmse_mean  \n",
       "0  mean_squared_error         rmsprop        2.217802         2.386229  \n",
       "1  mean_squared_error         rmsprop        2.155490         2.340311  "
      ]
     },
     "metadata": {},
     "output_type": "display_data"
    }
   ],
   "source": [
    "print(len(results))\n",
    "df_results = pd.DataFrame(input_df)\n",
    "display(df_results)"
   ]
  },
  {
   "cell_type": "code",
   "execution_count": 10,
   "metadata": {
    "colab": {
     "base_uri": "https://localhost:8080/",
     "height": 323
    },
    "colab_type": "code",
    "id": "3_Wt7PRujQDT",
    "outputId": "3c3d77ca-fc3c-456c-ba47-7cc0549d796d"
   },
   "outputs": [],
   "source": [
    "# print(left_rmse)\n",
    "# print(right_rmse)\n",
    "# plt.figure(1)\n",
    "# plt.plot(gp['left_true'])\n",
    "# plt.plot(gp['left_pred'])\n",
    "# plt.legend(['GT', 'Pred'])\n",
    "# plt.show()\n",
    "\n",
    "# Define list of hyperparameter options\n",
    "# For each hyperparameter combination\n",
    "#   Create model using hyperparameters\n",
    "#   Train model\n",
    "#   Store hyperparameters and validation loss\n",
    "#   Store plot of training/validation loss over time"
   ]
  },
  {
   "cell_type": "code",
   "execution_count": 11,
   "metadata": {
    "colab": {},
    "colab_type": "code",
    "id": "vakvCACojQDc"
   },
   "outputs": [],
   "source": [
    "# n_epochs = len(model_hist.history['loss'])\n",
    "# epochs = np.arange(1,n_epochs+1)\n",
    "# plt.figure(1)\n",
    "# plt.plot(epochs, model_hist.history['loss'])\n",
    "# plt.plot(epochs, model_hist.history['val_loss'])\n",
    "# plt.legend(['Training Loss', 'Validation Loss'])\n",
    "# plt.show()"
   ]
  }
 ],
 "metadata": {
  "accelerator": "GPU",
  "colab": {
   "collapsed_sections": [],
   "name": "LSTM Gait Phase.ipynb",
   "provenance": [],
   "toc_visible": true
  },
  "kernelspec": {
   "display_name": "Python 3",
   "language": "python",
   "name": "python3"
  },
  "language_info": {
   "codemirror_mode": {
    "name": "ipython",
    "version": 3
   },
   "file_extension": ".py",
   "mimetype": "text/x-python",
   "name": "python",
   "nbconvert_exporter": "python",
   "pygments_lexer": "ipython3",
   "version": "3.6.10"
  }
 },
 "nbformat": 4,
 "nbformat_minor": 4
}
