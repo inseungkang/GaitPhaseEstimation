{
 "cells": [
  {
   "cell_type": "markdown",
   "metadata": {},
   "source": [
    "## Real-Time Inference of Gait Phase and Walk vs. Stand "
   ]
  },
  {
   "cell_type": "markdown",
   "metadata": {},
   "source": [
    "In this notebook, we will look at the real time implementation of two models - a gait phase estimator and a walk vs stand classifier. Each model was trained offline. Here, the trained models will be loaded, and predictions will be made in real time."
   ]
  },
  {
   "cell_type": "markdown",
   "metadata": {},
   "source": [
    "#### Imports"
   ]
  },
  {
   "cell_type": "code",
   "execution_count": 107,
   "metadata": {},
   "outputs": [],
   "source": [
    "from keras.models import load_model\n",
    "from convolutional_nn import *\n",
    "import time\n",
    "import tensorflow as tf\n",
    "from keras.metrics import RootMeanSquaredError"
   ]
  },
  {
   "cell_type": "markdown",
   "metadata": {},
   "source": [
    "#### Load Model"
   ]
  },
  {
   "cell_type": "code",
   "execution_count": 3,
   "metadata": {},
   "outputs": [
    {
     "name": "stdout",
     "output_type": "stream",
     "text": [
      "3362/3362 [==============================] - 0s 47us/step\n",
      "4245/4245 [==============================] - 0s 44us/step\n",
      "3298/3298 [==============================] - 0s 43us/step\n",
      "4649/4649 [==============================] - 0s 42us/step\n",
      "3341/3341 [==============================] - 0s 50us/step\n",
      "4278/4278 [==============================] - 0s 52us/step\n",
      "3286/3286 [==============================] - 0s 46us/step\n",
      "4667/4667 [==============================] - 0s 43us/step\n",
      "3054/3054 [==============================] - 0s 47us/step\n",
      "4453/4453 [==============================] - 0s 44us/step\n",
      "Window Size: 20 \n",
      "Loss: 10.28%\n"
     ]
    }
   ],
   "source": [
    "# Loads model configuration and learned parameters\n",
    "model = load_model('test_model_save')\n",
    "\n",
    "# Verify that loss is the same as trained model\n",
    "trials = np.arange(1, 11)\n",
    "window_size = 20\n",
    "loss_per_trial = []\n",
    "for test_trial_num in trials:\n",
    "    data = cnn_train_test_split(test_trial_num, window_size)\n",
    "    loss_per_trial.append(model.evaluate(\n",
    "            data['X_test'], data['y_test']))\n",
    "loss_mean = np.mean(loss_per_trial) * 100\n",
    "print('Window Size: {} \\nLoss: {:.2f}%'.format(\n",
    "    window_size, loss_mean))"
   ]
  },
  {
   "cell_type": "markdown",
   "metadata": {},
   "source": [
    "#### Load Dataset"
   ]
  },
  {
   "cell_type": "code",
   "execution_count": 5,
   "metadata": {},
   "outputs": [
    {
     "name": "stdout",
     "output_type": "stream",
     "text": [
      "(38633, 20, 10, 1)\n",
      "(38633, 4)\n"
     ]
    }
   ],
   "source": [
    "X, y = cnn_load_data(trials, 20)\n",
    "print(X.shape)\n",
    "print(y.shape)"
   ]
  },
  {
   "cell_type": "markdown",
   "metadata": {},
   "source": [
    "#### Model Summary"
   ]
  },
  {
   "cell_type": "code",
   "execution_count": 14,
   "metadata": {},
   "outputs": [
    {
     "data": {
      "text/plain": [
       "(None, 20, 10, 1)"
      ]
     },
     "metadata": {},
     "output_type": "display_data"
    },
    {
     "name": "stdout",
     "output_type": "stream",
     "text": [
      "Model: \"sequential_1\"\n",
      "_________________________________________________________________\n",
      "Layer (type)                 Output Shape              Param #   \n",
      "=================================================================\n",
      "conv2d_1 (Conv2D)            (None, 18, 8, 64)         640       \n",
      "_________________________________________________________________\n",
      "flatten_1 (Flatten)          (None, 9216)              0         \n",
      "_________________________________________________________________\n",
      "dense_1 (Dense)              (None, 4)                 36868     \n",
      "=================================================================\n",
      "Total params: 37,508\n",
      "Trainable params: 37,508\n",
      "Non-trainable params: 0\n",
      "_________________________________________________________________\n"
     ]
    }
   ],
   "source": [
    "display(model.input_shape)\n",
    "model.summary()"
   ]
  },
  {
   "cell_type": "markdown",
   "metadata": {},
   "source": [
    "#### Make Inferences in Real Time"
   ]
  },
  {
   "cell_type": "code",
   "execution_count": 192,
   "metadata": {},
   "outputs": [],
   "source": [
    "N = X.shape[0]\n",
    "i = 0\n",
    "inference_freq_Hz = 10\n",
    "period_s = 1/inference_freq_Hz\n",
    "\n",
    "pred_y = []\n",
    "\n",
    "while i < 2:\n",
    "# while i < N:\n",
    "    time.sleep(period_s)\n",
    "    example = X[i]\n",
    "    example = example.reshape((-1, *example.shape))\n",
    "    prediction = model.predict(example)\n",
    "    pred_y.append(prediction)\n",
    "    i += 1"
   ]
  },
  {
   "cell_type": "markdown",
   "metadata": {},
   "source": [
    "#### Evaluate Predictions"
   ]
  },
  {
   "cell_type": "code",
   "execution_count": 211,
   "metadata": {},
   "outputs": [],
   "source": [
    "def custom_rmse(y_true, y_pred):\n",
    "    #Raw values and Prediction are in X,Y\n",
    "    \n",
    "    #Separate legs\n",
    "    left_true = y_true[:, :2]\n",
    "    right_true = y_true[:, 2:]\n",
    "    left_pred = y_pred[:, :2]\n",
    "    right_pred = y_pred[:, 2:]\n",
    "    \n",
    "    #Convert to polar\n",
    "    left_true_theta = np.arctan2(left_true[:, 1], left_true[:, 0])\n",
    "    right_true_theta = np.arctan2(right_true[:, 1], right_true[:, 0])\n",
    "    left_pred_theta = np.arctan2(left_pred[:, 1], left_pred[:, 0])\n",
    "    right_pred_theta = np.arctan2(right_pred[:, 1], right_pred[:, 0])\n",
    "    \n",
    "    #Bring into range of 0 to 2pi\n",
    "    left_true_theta = np.mod(left_true_theta + 2*np.pi, 2*np.pi)\n",
    "    right_true_theta = np.mod(right_true_theta + 2*np.pi, 2*np.pi)\n",
    "    left_pred_theta = np.mod(left_pred_theta + 2*np.pi, 2*np.pi)\n",
    "    right_pred_theta = np.mod(right_pred_theta + 2*np.pi, 2*np.pi)\n",
    "    \n",
    "    #Interpolate from 0 to 100%\n",
    "    left_gp_true = 100*left_true_theta / (2*np.pi)\n",
    "    right_gp_true = 100*right_true_theta / (2*np.pi)\n",
    "    left_gp_pred = 100*left_pred_theta / (2*np.pi)\n",
    "    right_gp_pred = 100*right_pred_theta / (2*np.pi)\n",
    "    \n",
    "    #Diff\n",
    "    left_diff = np.subtract(left_gp_true, left_gp_pred)\n",
    "    right_diff = np.subtract(right_gp_true, right_gp_pred)\n",
    "    left_rmse = np.sqrt(np.mean(np.square(left_diff)))\n",
    "    right_rmse = np.sqrt(np.mean(np.square(right_diff)))\n",
    "    \n",
    "    return left_rmse, right_rmse"
   ]
  },
  {
   "cell_type": "code",
   "execution_count": 212,
   "metadata": {},
   "outputs": [
    {
     "name": "stdout",
     "output_type": "stream",
     "text": [
      "2.557783638109587 0.7329248101623699\n"
     ]
    }
   ],
   "source": [
    "true_y = y[:2]\n",
    "pred_y = np.array(pred_y).reshape(2, 4)\n",
    "left_gp_rmse, right_gp_rmse = custom_rmse(true_y, pred_y)\n",
    "\n",
    "print(left_gp_rmse, right_gp_rmse)"
   ]
  }
 ],
 "metadata": {
  "kernelspec": {
   "display_name": "Python 3",
   "language": "python",
   "name": "python3"
  },
  "language_info": {
   "codemirror_mode": {
    "name": "ipython",
    "version": 3
   },
   "file_extension": ".py",
   "mimetype": "text/x-python",
   "name": "python",
   "nbconvert_exporter": "python",
   "pygments_lexer": "ipython3",
   "version": "3.6.10"
  }
 },
 "nbformat": 4,
 "nbformat_minor": 4
}
