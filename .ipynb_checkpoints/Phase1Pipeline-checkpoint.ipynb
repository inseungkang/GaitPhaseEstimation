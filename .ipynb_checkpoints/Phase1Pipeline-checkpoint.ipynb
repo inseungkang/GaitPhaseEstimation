{
 "cells": [
  {
   "cell_type": "markdown",
   "metadata": {},
   "source": [
    "## Phase 1 Pipeline"
   ]
  },
  {
   "cell_type": "code",
   "execution_count": 1,
   "metadata": {},
   "outputs": [],
   "source": [
    "from model_training import *"
   ]
  },
  {
   "cell_type": "code",
   "execution_count": 2,
   "metadata": {},
   "outputs": [
    {
     "name": "stderr",
     "output_type": "stream",
     "text": [
      "Using TensorFlow backend.\n"
     ]
    }
   ],
   "source": [
    "from convolutional_nn import *\n",
    "from data_processing import *\n",
    "import pandas as pd"
   ]
  },
  {
   "cell_type": "code",
   "execution_count": 3,
   "metadata": {},
   "outputs": [],
   "source": [
    "sensors = ['leftJointPosition', 'rightJointPosition', 'leftJointVelocity',\n",
    "           'rightJointVelocity', 'imuGyroX', 'imuGyroY', 'imuGyroZ', 'imuAccX',\n",
    "           'imuAccY', 'imuAccZ']\n",
    "\n",
    "# Produce 1 label file for each trial and store them in ../labels folder\n",
    "data = import_data(sensors)\n",
    "\n",
    "left_joint_positions, right_joint_positions = extract_joint_positions(data)\n",
    "labels = []\n",
    "for i in range(5):\n",
    "    filename = \"labels/label_trial{}.txt\".format(i+1)\n",
    "    left_gp_x, left_gp_y = label_vectors(left_joint_positions[i])\n",
    "    right_gp_x, right_gp_y = label_vectors(right_joint_positions[i])\n",
    "    labeled_gp = pd.DataFrame({'leftGaitPhase_x': left_gp_x, 'leftGaitPhase_y': left_gp_y,\n",
    "                               'rightGaitPhase_x': right_gp_x, 'rightGaitPhase_y': right_gp_y})\n",
    "    labels.append(labeled_gp)\n",
    "\n",
    "# Combine the data and the labels\n",
    "for d, l in zip(data, labels):\n",
    "    d[l.columns] = l\n",
    "\n",
    "# Creat a list of cut_indicies for each trial\n",
    "cut_indicies_list = []\n",
    "for i in range(5):\n",
    "    cut_indicies_list.append(find_cutting_indices(left_joint_positions[i], \n",
    "    right_joint_positions[i]))\n",
    "\n",
    "# Cut the standing data and store files into ../features folder\n",
    "data_list = cnn_cut_data(data, cut_indicies_list)"
   ]
  },
  {
   "cell_type": "code",
   "execution_count": 4,
   "metadata": {},
   "outputs": [],
   "source": [
    "hyperparam_space = {\n",
    "    'window_size': [20],\n",
    "    'model': 'lstm',\n",
    "    'lstm': {\n",
    "      'units': [10],\n",
    "      'activation': ['relu']\n",
    "    },\n",
    "    'dense': {\n",
    "        'activation': ['tanh']\n",
    "    },\n",
    "    'optimizer': {\n",
    "        'loss': ['mean_absolute_error'],\n",
    "        'optimizer': ['adam']\n",
    "    },\n",
    "    'training': {\n",
    "        'epochs': [2],\n",
    "        'batch_size': [128]\n",
    "    }\n",
    "}"
   ]
  },
  {
   "cell_type": "code",
   "execution_count": 5,
   "metadata": {},
   "outputs": [
    {
     "name": "stdout",
     "output_type": "stream",
     "text": [
      "[{'window_size': 20, 'model': 'lstm', 'dense': {'activation': 'tanh'}, 'optimizer': {'loss': 'mean_absolute_error', 'optimizer': 'adam'}, 'training': {'epochs': 2, 'batch_size': 128}, 'lstm': {'units': 10, 'activation': 'relu'}}]\n"
     ]
    }
   ],
   "source": [
    "hyperparameter_configs = get_model_configs(hyperparam_space)\n",
    "print(hyperparameter_configs)"
   ]
  },
  {
   "cell_type": "code",
   "execution_count": 6,
   "metadata": {},
   "outputs": [
    {
     "name": "stdout",
     "output_type": "stream",
     "text": [
      "Model: \"sequential\"\n",
      "_________________________________________________________________\n",
      "Layer (type)                 Output Shape              Param #   \n",
      "=================================================================\n",
      "normalization (Normalization (None, 20, 10)            21        \n",
      "_________________________________________________________________\n",
      "lstm (LSTM)                  (None, 10)                840       \n",
      "_________________________________________________________________\n",
      "dense (Dense)                (None, 4)                 44        \n",
      "=================================================================\n",
      "Total params: 905\n",
      "Trainable params: 884\n",
      "Non-trainable params: 21\n",
      "_________________________________________________________________\n",
      "Train on 28216 samples, validate on 7055 samples\n",
      "Epoch 1/2\n",
      "28216/28216 [==============================] - 6s 221us/sample - loss: 0.3312 - val_loss: 0.1532\n",
      "Epoch 2/2\n",
      "28216/28216 [==============================] - 3s 110us/sample - loss: 0.1082 - val_loss: 0.0998\n",
      "Model: \"sequential\"\n",
      "_________________________________________________________________\n",
      "Layer (type)                 Output Shape              Param #   \n",
      "=================================================================\n",
      "normalization (Normalization (None, 20, 10)            21        \n",
      "_________________________________________________________________\n",
      "lstm (LSTM)                  (None, 10)                840       \n",
      "_________________________________________________________________\n",
      "dense (Dense)                (None, 4)                 44        \n",
      "=================================================================\n",
      "Total params: 905\n",
      "Trainable params: 884\n",
      "Non-trainable params: 21\n",
      "_________________________________________________________________\n",
      "Train on 27510 samples, validate on 6878 samples\n",
      "Epoch 1/2\n",
      "27510/27510 [==============================] - 7s 240us/sample - loss: 0.3888 - val_loss: 0.2205\n",
      "Epoch 2/2\n",
      "27510/27510 [==============================] - 3s 112us/sample - loss: 0.1356 - val_loss: 0.1134\n"
     ]
    }
   ],
   "source": [
    "trial_results, average_results = train_models('lstm', hyperparameter_configs, data_list)"
   ]
  },
  {
   "cell_type": "code",
   "execution_count": 7,
   "metadata": {},
   "outputs": [
    {
     "data": {
      "text/html": [
       "<div>\n",
       "<style scoped>\n",
       "    .dataframe tbody tr th:only-of-type {\n",
       "        vertical-align: middle;\n",
       "    }\n",
       "\n",
       "    .dataframe tbody tr th {\n",
       "        vertical-align: top;\n",
       "    }\n",
       "\n",
       "    .dataframe thead th {\n",
       "        text-align: right;\n",
       "    }\n",
       "</style>\n",
       "<table border=\"1\" class=\"dataframe\">\n",
       "  <thead>\n",
       "    <tr style=\"text-align: right;\">\n",
       "      <th></th>\n",
       "      <th>window_size</th>\n",
       "      <th>lstm_units</th>\n",
       "      <th>lstm_activation</th>\n",
       "      <th>dense_activation</th>\n",
       "      <th>optim_loss</th>\n",
       "      <th>optim_optimizer</th>\n",
       "      <th>training_epochs</th>\n",
       "      <th>training_batch_size</th>\n",
       "      <th>left_validation_rmse</th>\n",
       "      <th>right_validation_rmse</th>\n",
       "      <th>trial</th>\n",
       "    </tr>\n",
       "  </thead>\n",
       "  <tbody>\n",
       "    <tr>\n",
       "      <th>0</th>\n",
       "      <td>20</td>\n",
       "      <td>10</td>\n",
       "      <td>relu</td>\n",
       "      <td>tanh</td>\n",
       "      <td>mean_absolute_error</td>\n",
       "      <td>adam</td>\n",
       "      <td>2</td>\n",
       "      <td>128</td>\n",
       "      <td>2.437452</td>\n",
       "      <td>2.211019</td>\n",
       "      <td>0</td>\n",
       "    </tr>\n",
       "    <tr>\n",
       "      <th>1</th>\n",
       "      <td>20</td>\n",
       "      <td>10</td>\n",
       "      <td>relu</td>\n",
       "      <td>tanh</td>\n",
       "      <td>mean_absolute_error</td>\n",
       "      <td>adam</td>\n",
       "      <td>2</td>\n",
       "      <td>128</td>\n",
       "      <td>3.524134</td>\n",
       "      <td>3.693792</td>\n",
       "      <td>1</td>\n",
       "    </tr>\n",
       "  </tbody>\n",
       "</table>\n",
       "</div>"
      ],
      "text/plain": [
       "   window_size  lstm_units lstm_activation dense_activation  \\\n",
       "0           20          10            relu             tanh   \n",
       "1           20          10            relu             tanh   \n",
       "\n",
       "            optim_loss optim_optimizer  training_epochs  training_batch_size  \\\n",
       "0  mean_absolute_error            adam                2                  128   \n",
       "1  mean_absolute_error            adam                2                  128   \n",
       "\n",
       "   left_validation_rmse  right_validation_rmse  trial  \n",
       "0              2.437452               2.211019      0  \n",
       "1              3.524134               3.693792      1  "
      ]
     },
     "metadata": {},
     "output_type": "display_data"
    }
   ],
   "source": [
    "display(trial_results)"
   ]
  }
 ],
 "metadata": {
  "kernelspec": {
   "display_name": "Python 3",
   "language": "python",
   "name": "python3"
  },
  "language_info": {
   "codemirror_mode": {
    "name": "ipython",
    "version": 3
   },
   "file_extension": ".py",
   "mimetype": "text/x-python",
   "name": "python",
   "nbconvert_exporter": "python",
   "pygments_lexer": "ipython3",
   "version": "3.6.10"
  }
 },
 "nbformat": 4,
 "nbformat_minor": 4
}
