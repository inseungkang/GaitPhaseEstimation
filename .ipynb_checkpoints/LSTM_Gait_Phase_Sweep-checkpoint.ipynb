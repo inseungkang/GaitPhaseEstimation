{
 "cells": [
  {
   "cell_type": "markdown",
   "metadata": {
    "colab_type": "text",
    "id": "JlyjEIbEjQDF"
   },
   "source": [
    "## LSTM for Gait Phase Estimation"
   ]
  },
  {
   "cell_type": "markdown",
   "metadata": {
    "colab_type": "text",
    "id": "cM3GEQzjjQDG"
   },
   "source": [
    "The purpose of this notebook is to train LSTM models to estimate a user's gait phase on both legs, independent of the locomotion mode."
   ]
  },
  {
   "cell_type": "code",
   "execution_count": null,
   "metadata": {
    "colab": {},
    "colab_type": "code",
    "id": "GtMup6itjQDH"
   },
   "outputs": [],
   "source": [
    "from lstm_modules import *\n",
    "from convolutional_nn import *\n",
    "from data_processing import *\n",
    "import numpy as np\n",
    "import tensorflow as tf\n",
    "import itertools\n",
    "import pandas as pd"
   ]
  },
  {
   "cell_type": "code",
   "execution_count": null,
   "metadata": {
    "colab": {},
    "colab_type": "code",
    "id": "W7lV9YpljQDN"
   },
   "outputs": [],
   "source": [
    "# Seed Random Number Generators"
   ]
  },
  {
   "cell_type": "markdown",
   "metadata": {
    "colab_type": "text",
    "id": "dnLs0X8bsv4D"
   },
   "source": [
    "### Set Up Data"
   ]
  },
  {
   "cell_type": "code",
   "execution_count": null,
   "metadata": {
    "colab": {},
    "colab_type": "code",
    "id": "1TqylDhFsv4G"
   },
   "outputs": [],
   "source": [
    "sensors = ['leftJointPosition', 'rightJointPosition', 'leftJointVelocity',\n",
    "           'rightJointVelocity', 'imuGyroX', 'imuGyroY', 'imuGyroZ', 'imuAccX',\n",
    "           'imuAccY', 'imuAccZ']\n",
    "\n",
    "# Produce 1 label file for each trial and store them in ../labels folder\n",
    "data = import_data(sensors)\n",
    "\n",
    "left_joint_positions, right_joint_positions = extract_joint_positions(data)\n",
    "labels = []\n",
    "for i in range(5):\n",
    "    filename = \"labels/label_trial{}.txt\".format(i+1)\n",
    "    left_gp_x, left_gp_y = label_vectors(left_joint_positions[i])\n",
    "    right_gp_x, right_gp_y = label_vectors(right_joint_positions[i])\n",
    "    labeled_gp = pd.DataFrame({'leftGaitPhase_x': left_gp_x, 'leftGaitPhase_y': left_gp_y,\n",
    "                               'rightGaitPhase_x': right_gp_x, 'rightGaitPhase_y': right_gp_y})\n",
    "    labels.append(labeled_gp)\n",
    "\n",
    "# Combine the data and the labels\n",
    "for d, l in zip(data, labels):\n",
    "    d[l.columns] = l\n",
    "\n",
    "# Creat a list of cut_indicies for each trial\n",
    "cut_indicies_list = []\n",
    "for i in range(5):\n",
    "    cut_indicies_list.append(find_cutting_indices(left_joint_positions[i], \n",
    "    right_joint_positions[i]))\n",
    "\n",
    "# Cut the standing data and store files into ../features folder\n",
    "data_list = cnn_cut_data(data, cut_indicies_list)"
   ]
  },
  {
   "cell_type": "markdown",
   "metadata": {
    "colab_type": "text",
    "id": "8KMUwS-ZjQDT"
   },
   "source": [
    "### Tune Hyperparameters"
   ]
  },
  {
   "cell_type": "code",
   "execution_count": null,
   "metadata": {
    "colab": {},
    "colab_type": "code",
    "id": "Uy-ab61Fk78E"
   },
   "outputs": [],
   "source": [
    "hyperparam_space = {\n",
    "    'window_size': [120],\n",
    "    'lstm': {\n",
    "      'units': [10],\n",
    "      'activation': ['relu'],\n",
    "      'recurrent_regularizer': ['l2'],\n",
    "      'kernel_regularizer': ['l2']\n",
    "    },\n",
    "    'dense': {\n",
    "        'activation': ['tanh'],\n",
    "        'kernel_regularizer': ['l2']\n",
    "    },\n",
    "    'optimizer': {\n",
    "        'loss': ['mean_absolute_error'],\n",
    "        'optimizer': ['adam']\n",
    "    }\n",
    "}"
   ]
  },
  {
   "cell_type": "code",
   "execution_count": null,
   "metadata": {
    "colab": {},
    "colab_type": "code",
    "id": "k8HSJZSnr7o9"
   },
   "outputs": [],
   "source": [
    "def get_model_configs(hyperparam_space):\n",
    "    model_configs = []\n",
    "    for window_size in hyperparam_space['window_size']:\n",
    "        lstm_params = list(hyperparam_space['lstm'].keys())\n",
    "\n",
    "        lstm_possibilities = []\n",
    "\n",
    "        for param in lstm_params:\n",
    "            lstm_possibilities.append(hyperparam_space['lstm'][param])\n",
    "\n",
    "        lstm_config_tuples = itertools.product(*lstm_possibilities)\n",
    "        lstm_configs = []\n",
    "        for config in lstm_config_tuples:\n",
    "            lstm_config = {}\n",
    "            for i, value in enumerate(config):\n",
    "                lstm_config[lstm_params[i]] = value\n",
    "            lstm_configs.append(lstm_config)\n",
    "\n",
    "        dense_params = list(hyperparam_space['dense'].keys())\n",
    "\n",
    "        dense_possibilities = []\n",
    "\n",
    "        for param in dense_params:\n",
    "            dense_possibilities.append(hyperparam_space['dense'][param])\n",
    "\n",
    "        dense_config_tuples = itertools.product(*dense_possibilities)\n",
    "        dense_configs = []\n",
    "        for config in dense_config_tuples:\n",
    "            dense_config = {}\n",
    "            for i, value in enumerate(config):\n",
    "                dense_config[dense_params[i]] = value\n",
    "            dense_configs.append(dense_config)\n",
    "\n",
    "        optim_params = list(hyperparam_space['optimizer'].keys())\n",
    "\n",
    "        optim_possibilities = []\n",
    "\n",
    "        for param in optim_params:\n",
    "            optim_possibilities.append(hyperparam_space['optimizer'][param])\n",
    "\n",
    "        optim_config_tuples = itertools.product(*optim_possibilities)\n",
    "        optim_configs = []\n",
    "        for config in optim_config_tuples:\n",
    "            optim_config = {}\n",
    "            for i, value in enumerate(config):\n",
    "                optim_config[optim_params[i]] = value\n",
    "            optim_configs.append(optim_config)\n",
    "\n",
    "        possible_configs = itertools.product(lstm_configs, dense_configs, optim_configs)\n",
    "        config_count = 0\n",
    "        for config in possible_configs:\n",
    "            config_count += 1\n",
    "            model_configs.append({\n",
    "                'window_size': window_size,\n",
    "                'lstm': config[0],\n",
    "                'dense': config[1],\n",
    "                'optimizer': config[2]\n",
    "            })\n",
    "    return model_configs            "
   ]
  },
  {
   "cell_type": "code",
   "execution_count": null,
   "metadata": {
    "colab": {
     "base_uri": "https://localhost:8080/",
     "height": 35
    },
    "colab_type": "code",
    "id": "rnSCRfsq4CEo",
    "outputId": "3f6b8e97-4a51-478d-81b5-7401881cf5fc"
   },
   "outputs": [],
   "source": [
    "hyperparameter_configs = get_model_configs(hyperparam_space)\n",
    "print(len(hyperparameter_configs))"
   ]
  },
  {
   "cell_type": "code",
   "execution_count": null,
   "metadata": {
    "colab": {
     "base_uri": "https://localhost:8080/",
     "height": 436
    },
    "colab_type": "code",
    "id": "3vJNubQa4iFu",
    "outputId": "4dffff85-2457-4a85-822e-e3041533f74e"
   },
   "outputs": [],
   "source": [
    "results = []\n",
    "for model_config in hyperparameter_configs:\n",
    "    current_result = {}\n",
    "    current_result['model_config'] = model_config\n",
    "    current_result['left_validation_rmse'] = []\n",
    "    current_result['right_validation_rmse'] = []\n",
    "    for trial in np.arange(1,11):\n",
    "        dataset = cnn_extract_features(data_list, model_config['window_size'], trial)\n",
    "#         dataset = cnn_train_test_split(trial, model_config['window_size'])\n",
    "        model = lstm_model(sequence_length=model_config['window_size'],\n",
    "                          n_features=10, \n",
    "                           lstm_config=model_config['lstm'],\n",
    "                           dense_config=model_config['dense'],\n",
    "                           optim_config=model_config['optimizer'],\n",
    "                           X_train=dataset['X_train'].squeeze())\n",
    "        model.summary()\n",
    "        early_stopping_callback = EarlyStopping(monitor='val_loss', min_delta=0, patience=10, verbose=0)\n",
    "        model_hist = model.fit(dataset['X_train'].squeeze(), dataset['y_train'].squeeze(), epochs=30, batch_size=128, verbose=1, validation_split=0.2, shuffle=True, callbacks= [early_stopping_callback])\n",
    "        # model.save('test_rnn_model')\n",
    "\n",
    "        predictions = model.predict(dataset['X_test'].squeeze())\n",
    "        left_rmse, right_rmse = custom_rmse(dataset['y_test'].squeeze(), predictions)\n",
    "\n",
    "        current_result['left_validation_rmse'].append(left_rmse)\n",
    "        current_result['right_validation_rmse'].append(right_rmse)\n",
    "    results.append(current_result)"
   ]
  },
  {
   "cell_type": "code",
   "execution_count": null,
   "metadata": {
    "colab": {},
    "colab_type": "code",
    "id": "25P-wi-e9_6t"
   },
   "outputs": [],
   "source": [
    "for model in results:\n",
    "    model['left_rmse_mean'] = np.mean(model['left_validation_rmse'])\n",
    "    model['right_rmse_mean'] = np.mean(model['right_validation_rmse'])"
   ]
  },
  {
   "cell_type": "code",
   "execution_count": null,
   "metadata": {
    "colab": {},
    "colab_type": "code",
    "id": "hHPPcgbUYMUJ"
   },
   "outputs": [],
   "source": [
    "def mapper(x):\n",
    "    out = {}\n",
    "    out['window_size'] = x['model_config']['window_size']\n",
    "    for key in x['model_config']['lstm'].keys():\n",
    "        out['lstm_{}'.format(key)] = x['model_config']['lstm'][key]\n",
    "\n",
    "    for key in x['model_config']['dense'].keys():\n",
    "        out['dense_{}'.format(key)] = x['model_config']['dense'][key]\n",
    "\n",
    "    for key in x['model_config']['optimizer'].keys():\n",
    "        out['optim_{}'.format(key)] = x['model_config']['optimizer'][key]\n",
    "\n",
    "    out['left_rmse_mean'] = x['left_rmse_mean']\n",
    "    out['right_rmse_mean'] = x['right_rmse_mean']\n",
    "    return out\n",
    "  \n",
    "input_df = list(map(mapper, results))"
   ]
  },
  {
   "cell_type": "code",
   "execution_count": null,
   "metadata": {
    "colab": {},
    "colab_type": "code",
    "id": "3PZYXyYTZLiG"
   },
   "outputs": [],
   "source": [
    "print(len(results))\n",
    "df_results = pd.DataFrame(input_df)\n",
    "display(df_results)"
   ]
  },
  {
   "cell_type": "code",
   "execution_count": null,
   "metadata": {
    "colab": {},
    "colab_type": "code",
    "id": "yHrOPVmfOhZa"
   },
   "outputs": [],
   "source": [
    "df_results.to_csv('results_2.csv')"
   ]
  },
  {
   "cell_type": "code",
   "execution_count": null,
   "metadata": {
    "colab": {},
    "colab_type": "code",
    "id": "3_Wt7PRujQDT"
   },
   "outputs": [],
   "source": [
    "# print(left_rmse)\n",
    "# print(right_rmse)\n",
    "# plt.figure(1)\n",
    "# plt.plot(gp['left_true'])\n",
    "# plt.plot(gp['left_pred'])\n",
    "# plt.legend(['GT', 'Pred'])\n",
    "# plt.show()\n",
    "\n",
    "# Define list of hyperparameter options\n",
    "# For each hyperparameter combination\n",
    "#   Create model using hyperparameters\n",
    "#   Train model\n",
    "#   Store hyperparameters and validation loss\n",
    "#   Store plot of training/validation loss over time"
   ]
  },
  {
   "cell_type": "code",
   "execution_count": null,
   "metadata": {
    "colab": {},
    "colab_type": "code",
    "id": "vakvCACojQDc"
   },
   "outputs": [],
   "source": [
    "# n_epochs = len(model_hist.history['loss'])\n",
    "# epochs = np.arange(1,n_epochs+1)\n",
    "# plt.figure(1)\n",
    "# plt.plot(epochs, model_hist.history['loss'])\n",
    "# plt.plot(epochs, model_hist.history['val_loss'])\n",
    "# plt.legend(['Training Loss', 'Validation Loss'])\n",
    "# plt.show()"
   ]
  }
 ],
 "metadata": {
  "accelerator": "GPU",
  "colab": {
   "collapsed_sections": [],
   "name": "LSTM_Gait_Phase_Sweep.ipynb",
   "provenance": [],
   "toc_visible": true
  },
  "kernelspec": {
   "display_name": "Python 3",
   "language": "python",
   "name": "python3"
  },
  "language_info": {
   "codemirror_mode": {
    "name": "ipython",
    "version": 3
   },
   "file_extension": ".py",
   "mimetype": "text/x-python",
   "name": "python",
   "nbconvert_exporter": "python",
   "pygments_lexer": "ipython3",
   "version": "3.6.10"
  }
 },
 "nbformat": 4,
 "nbformat_minor": 4
}
