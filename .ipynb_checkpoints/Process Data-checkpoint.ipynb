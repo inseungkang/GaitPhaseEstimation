{
 "cells": [
  {
   "cell_type": "code",
   "execution_count": 1,
   "metadata": {},
   "outputs": [],
   "source": [
    "import math\n",
    "import pandas as pd\n",
    "import numpy as np\n",
    "import scipy\n",
    "from scipy.signal import find_peaks, peak_prominences, peak_widths\n",
    "import warnings\n",
    "warnings.filterwarnings(\"ignore\")"
   ]
  },
  {
   "cell_type": "code",
   "execution_count": 2,
   "metadata": {},
   "outputs": [],
   "source": [
    "sensors = ['leftJointPosition', 'rightJointPosition', 'leftJointVelocity',\n",
    "           'rightJointVelocity', 'imuGyroX', 'imuGyroY', 'imuGyroZ', 'imuAccX',\n",
    "           'imuAccY', 'imuAccZ']"
   ]
  },
  {
   "cell_type": "code",
   "execution_count": null,
   "metadata": {},
   "outputs": [],
   "source": [
    "columns = pd.read_csv('data/columns.txt', header=None)\n",
    "data1 = pd.read_csv('data/trial_1.txt', sep=\" \", header=None)\n",
    "data2 = pd.read_csv('data/trial_2.txt', sep=\" \", header=None)\n",
    "data3 = pd.read_csv('data/trial_3.txt', sep=\" \", header=None)\n",
    "data4 = pd.read_csv('data/trial_4.txt', sep=\" \", header=None)\n",
    "data5 = pd.read_csv('data/trial_5.txt', sep=\" \", header=None)"
   ]
  }
 ],
 "metadata": {
  "kernelspec": {
   "display_name": "Python 3",
   "language": "python",
   "name": "python3"
  },
  "language_info": {
   "codemirror_mode": {
    "name": "ipython",
    "version": 3
   },
   "file_extension": ".py",
   "mimetype": "text/x-python",
   "name": "python",
   "nbconvert_exporter": "python",
   "pygments_lexer": "ipython3",
   "version": "3.8.3"
  }
 },
 "nbformat": 4,
 "nbformat_minor": 4
}
