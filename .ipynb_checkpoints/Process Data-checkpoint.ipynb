{
 "cells": [
  {
   "cell_type": "code",
   "execution_count": 17,
   "metadata": {},
   "outputs": [],
   "source": [
    "import math\n",
    "import pandas as pd\n",
    "import numpy as np\n",
    "import scipy\n",
    "from scipy.signal import find_peaks, peak_prominences, peak_widths\n",
    "import matplotlib.pyplot as plt\n",
    "import warnings\n",
    "warnings.filterwarnings(\"ignore\")"
   ]
  },
  {
   "cell_type": "code",
   "execution_count": 2,
   "metadata": {},
   "outputs": [],
   "source": [
    "sensors = ['leftJointPosition', 'rightJointPosition', 'leftJointVelocity',\n",
    "           'rightJointVelocity', 'imuGyroX', 'imuGyroY', 'imuGyroZ', 'imuAccX',\n",
    "           'imuAccY', 'imuAccZ']"
   ]
  },
  {
   "cell_type": "code",
   "execution_count": 3,
   "metadata": {},
   "outputs": [],
   "source": [
    "columns = pd.read_csv('data/columns.txt', header=None)\n",
    "data1 = pd.read_csv('data/trial_1.txt', sep=\" \", header=None)\n",
    "data2 = pd.read_csv('data/trial_2.txt', sep=\" \", header=None)\n",
    "data3 = pd.read_csv('data/trial_3.txt', sep=\" \", header=None)\n",
    "data4 = pd.read_csv('data/trial_4.txt', sep=\" \", header=None)\n",
    "data5 = pd.read_csv('data/trial_5.txt', sep=\" \", header=None)"
   ]
  },
  {
   "cell_type": "code",
   "execution_count": 4,
   "metadata": {},
   "outputs": [],
   "source": [
    "data_all = [data1, data2, data3, data4, data5]\n",
    "columns_list = columns.transpose().values.tolist()[0]\n",
    "data_list = []\n",
    "for data in data_all:\n",
    "    # drop the 32nd column which only contains NaN values\n",
    "    data.dropna(axis=1, inplace=True)\n",
    "    # rename the columns\n",
    "    data.columns = columns_list\n",
    "    # only keep the 10 sensors data columns\n",
    "    data = data[sensors]\n",
    "    data_list.append(data)"
   ]
  },
  {
   "cell_type": "code",
   "execution_count": 31,
   "metadata": {},
   "outputs": [
    {
     "data": {
      "image/png": "[encoded data removed]",
      "text/plain": [
       "<Figure size 432x288 with 1 Axes>"
      ]
     },
     "metadata": {
      "needs_background": "light"
     },
     "output_type": "display_data"
    },
    {
     "name": "stdout",
     "output_type": "stream",
     "text": [
      "(10080, 31)\n"
     ]
    }
   ],
   "source": [
    "\n",
    "a = data_list[0]\n",
    "plt.plot(data1)\n",
    "plt.show()\n",
    "print(np.shape(data1))"
   ]
  }
 ],
 "metadata": {
  "kernelspec": {
   "display_name": "Python 3",
   "language": "python",
   "name": "python3"
  },
  "language_info": {
   "codemirror_mode": {
    "name": "ipython",
    "version": 3
   },
   "file_extension": ".py",
   "mimetype": "text/x-python",
   "name": "python",
   "nbconvert_exporter": "python",
   "pygments_lexer": "ipython3",
   "version": "3.8.3"
  }
 },
 "nbformat": 4,
 "nbformat_minor": 4
}
