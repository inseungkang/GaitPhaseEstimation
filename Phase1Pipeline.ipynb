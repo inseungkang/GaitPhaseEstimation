{
 "cells": [
  {
   "cell_type": "markdown",
   "metadata": {},
   "source": [
    "## Phase 1 Pipeline"
   ]
  },
  {
   "cell_type": "markdown",
   "metadata": {},
   "source": [
    "#### Setup"
   ]
  },
  {
   "cell_type": "code",
   "execution_count": 1,
   "metadata": {},
   "outputs": [],
   "source": [
    "from model_training import *\n",
    "from data_processing import *\n",
    "import pandas as pd\n",
    "from numpy.random import seed\n",
    "import tensorflow as tf"
   ]
  },
  {
   "cell_type": "code",
   "execution_count": 2,
   "metadata": {},
   "outputs": [],
   "source": [
    "# Seed Random Number Generators for Reproducibility\n",
    "seed(1)\n",
    "tf.random.set_seed(seed=5)"
   ]
  },
  {
   "cell_type": "markdown",
   "metadata": {},
   "source": [
    "#### Configure Hyperparameter Search Space"
   ]
  },
  {
   "cell_type": "code",
   "execution_count": 3,
   "metadata": {},
   "outputs": [],
   "source": [
    "hyperparam_space = {\n",
    "    'window_size': [40],\n",
    "    'model': 'lstm',\n",
    "    'lstm': {\n",
    "      'units': [20],\n",
    "      'activation': ['tanh']\n",
    "    },\n",
    "    'dense': {\n",
    "        'activation': ['relu']\n",
    "    },\n",
    "    'optimizer': {\n",
    "        'loss': ['mean_absolute_error'],\n",
    "        'optimizer': ['adam']\n",
    "    },\n",
    "    'training': {\n",
    "        'epochs': [2],\n",
    "        'batch_size': [128]\n",
    "    }\n",
    "}\n",
    "\n",
    "hyperparameter_configs = get_model_configs(hyperparam_space)"
   ]
  },
  {
   "cell_type": "markdown",
   "metadata": {},
   "source": [
    "#### Load Data"
   ]
  },
  {
   "cell_type": "code",
   "execution_count": 4,
   "metadata": {},
   "outputs": [],
   "source": [
    "data = import_data()\n",
    "data = label_data(data)\n",
    "data_list = cut_data(data)"
   ]
  },
  {
   "cell_type": "markdown",
   "metadata": {},
   "source": [
    "#### Train Models"
   ]
  },
  {
   "cell_type": "code",
   "execution_count": 5,
   "metadata": {},
   "outputs": [
    {
     "name": "stdout",
     "output_type": "stream",
     "text": [
      "(35091, 40, 10)\n",
      "Model: \"sequential\"\n",
      "_________________________________________________________________\n",
      "Layer (type)                 Output Shape              Param #   \n",
      "=================================================================\n",
      "normalization (Normalization (None, 40, 10)            21        \n",
      "_________________________________________________________________\n",
      "lstm (LSTM)                  (None, 20)                2480      \n",
      "_________________________________________________________________\n",
      "dense (Dense)                (None, 4)                 84        \n",
      "=================================================================\n",
      "Total params: 2,585\n",
      "Trainable params: 2,564\n",
      "Non-trainable params: 21\n",
      "_________________________________________________________________\n",
      "Train on 28072 samples, validate on 7019 samples\n",
      "Epoch 1/2\n",
      "28072/28072 [==============================] - 9s 330us/sample - loss: 0.4636 - val_loss: 0.4234\n",
      "Epoch 2/2\n",
      "28072/28072 [==============================] - 7s 239us/sample - loss: 0.3598 - val_loss: 0.3541\n"
     ]
    }
   ],
   "source": [
    "trial_results, average_results = train_models(hyperparam_space['model'], hyperparameter_configs, data_list)"
   ]
  },
  {
   "cell_type": "markdown",
   "metadata": {},
   "source": [
    "#### View Results"
   ]
  },
  {
   "cell_type": "code",
   "execution_count": 6,
   "metadata": {},
   "outputs": [
    {
     "data": {
      "text/html": [
       "<div>\n",
       "<style scoped>\n",
       "    .dataframe tbody tr th:only-of-type {\n",
       "        vertical-align: middle;\n",
       "    }\n",
       "\n",
       "    .dataframe tbody tr th {\n",
       "        vertical-align: top;\n",
       "    }\n",
       "\n",
       "    .dataframe thead th {\n",
       "        text-align: right;\n",
       "    }\n",
       "</style>\n",
       "<table border=\"1\" class=\"dataframe\">\n",
       "  <thead>\n",
       "    <tr style=\"text-align: right;\">\n",
       "      <th></th>\n",
       "      <th>window_size</th>\n",
       "      <th>model_type</th>\n",
       "      <th>lstm_units</th>\n",
       "      <th>lstm_activation</th>\n",
       "      <th>dense_activation</th>\n",
       "      <th>optim_loss</th>\n",
       "      <th>optim_optimizer</th>\n",
       "      <th>training_epochs</th>\n",
       "      <th>training_batch_size</th>\n",
       "      <th>left_rmse_mean</th>\n",
       "      <th>right_rmse_mean</th>\n",
       "    </tr>\n",
       "  </thead>\n",
       "  <tbody>\n",
       "    <tr>\n",
       "      <th>0</th>\n",
       "      <td>40</td>\n",
       "      <td>lstm</td>\n",
       "      <td>20</td>\n",
       "      <td>tanh</td>\n",
       "      <td>relu</td>\n",
       "      <td>mean_absolute_error</td>\n",
       "      <td>adam</td>\n",
       "      <td>2</td>\n",
       "      <td>128</td>\n",
       "      <td>16.259777</td>\n",
       "      <td>16.147672</td>\n",
       "    </tr>\n",
       "  </tbody>\n",
       "</table>\n",
       "</div>"
      ],
      "text/plain": [
       "   window_size model_type  lstm_units lstm_activation dense_activation  \\\n",
       "0           40       lstm          20            tanh             relu   \n",
       "\n",
       "            optim_loss optim_optimizer  training_epochs  training_batch_size  \\\n",
       "0  mean_absolute_error            adam                2                  128   \n",
       "\n",
       "   left_rmse_mean  right_rmse_mean  \n",
       "0       16.259777        16.147672  "
      ]
     },
     "metadata": {},
     "output_type": "display_data"
    }
   ],
   "source": [
    "display(average_results)"
   ]
  },
  {
   "cell_type": "code",
   "execution_count": 7,
   "metadata": {},
   "outputs": [
    {
     "data": {
      "text/html": [
       "<div>\n",
       "<style scoped>\n",
       "    .dataframe tbody tr th:only-of-type {\n",
       "        vertical-align: middle;\n",
       "    }\n",
       "\n",
       "    .dataframe tbody tr th {\n",
       "        vertical-align: top;\n",
       "    }\n",
       "\n",
       "    .dataframe thead th {\n",
       "        text-align: right;\n",
       "    }\n",
       "</style>\n",
       "<table border=\"1\" class=\"dataframe\">\n",
       "  <thead>\n",
       "    <tr style=\"text-align: right;\">\n",
       "      <th></th>\n",
       "      <th>trial</th>\n",
       "      <th>window_size</th>\n",
       "      <th>lstm_units</th>\n",
       "      <th>lstm_activation</th>\n",
       "      <th>dense_activation</th>\n",
       "      <th>optim_loss</th>\n",
       "      <th>optim_optimizer</th>\n",
       "      <th>training_epochs</th>\n",
       "      <th>training_batch_size</th>\n",
       "      <th>left_validation_rmse</th>\n",
       "      <th>right_validation_rmse</th>\n",
       "    </tr>\n",
       "  </thead>\n",
       "  <tbody>\n",
       "    <tr>\n",
       "      <th>0</th>\n",
       "      <td>0</td>\n",
       "      <td>40</td>\n",
       "      <td>20</td>\n",
       "      <td>tanh</td>\n",
       "      <td>relu</td>\n",
       "      <td>mean_absolute_error</td>\n",
       "      <td>adam</td>\n",
       "      <td>2</td>\n",
       "      <td>128</td>\n",
       "      <td>16.259777</td>\n",
       "      <td>16.147672</td>\n",
       "    </tr>\n",
       "  </tbody>\n",
       "</table>\n",
       "</div>"
      ],
      "text/plain": [
       "   trial  window_size  lstm_units lstm_activation dense_activation  \\\n",
       "0      0           40          20            tanh             relu   \n",
       "\n",
       "            optim_loss optim_optimizer  training_epochs  training_batch_size  \\\n",
       "0  mean_absolute_error            adam                2                  128   \n",
       "\n",
       "   left_validation_rmse  right_validation_rmse  \n",
       "0             16.259777              16.147672  "
      ]
     },
     "metadata": {},
     "output_type": "display_data"
    }
   ],
   "source": [
    "display(trial_results)"
   ]
  },
  {
   "cell_type": "markdown",
   "metadata": {},
   "source": [
    "#### Example Hyperparameter Search Space Configs"
   ]
  },
  {
   "cell_type": "code",
   "execution_count": 8,
   "metadata": {},
   "outputs": [],
   "source": [
    "## LSTM Model\n",
    "# hyperparam_space = {\n",
    "#     'window_size': [20],\n",
    "#     'model': 'lstm',\n",
    "#     'lstm': {\n",
    "#       'units': [30],\n",
    "#       'activation': ['relu']\n",
    "#     },\n",
    "#     'dense': {\n",
    "#         'activation': ['tanh']\n",
    "#     },\n",
    "#     'optimizer': {\n",
    "#         'loss': ['mean_absolute_error'],\n",
    "#         'optimizer': ['adam']\n",
    "#     },\n",
    "#     'training': {\n",
    "#         'epochs': [10],\n",
    "#         'batch_size': [128]\n",
    "#     }\n",
    "# }\n",
    "\n",
    "## CNN Model\n",
    "# hyperparam_space = {\n",
    "#     'window_size': [20],\n",
    "#     'model': 'cnn',\n",
    "#     'cnn': {\n",
    "#       'kernel_size': [10],\n",
    "#       'activation': ['relu']\n",
    "#     },\n",
    "#     'dense': {\n",
    "#         'activation': ['tanh']\n",
    "#     },\n",
    "#     'optimizer': {\n",
    "#         'loss': ['mean_absolute_error'],\n",
    "#         'optimizer': ['adam']\n",
    "#     },\n",
    "#     'training': {\n",
    "#         'epochs': [10],\n",
    "#         'batch_size': [128]\n",
    "#     }\n",
    "# }\n",
    "\n",
    "## MLP Model\n",
    "# hyperparam_space = {\n",
    "#     'window_size': [20],\n",
    "#     'model': 'mlp',\n",
    "#     'dense': {\n",
    "#         'num_layers': [10, 20],\n",
    "#         'num_nodes': [5, 10],\n",
    "#         'activation': ['tanh']\n",
    "#     },\n",
    "#     'optimizer': {\n",
    "#         'loss': ['mean_absolute_error'],\n",
    "#         'optimizer': ['adam']\n",
    "#     },\n",
    "#     'training': {\n",
    "#         'epochs': [10],\n",
    "#         'batch_size': [128]\n",
    "#     }\n",
    "# }"
   ]
  }
 ],
 "metadata": {
  "kernelspec": {
   "display_name": "Python 3",
   "language": "python",
   "name": "python3"
  },
  "language_info": {
   "codemirror_mode": {
    "name": "ipython",
    "version": 3
   },
   "file_extension": ".py",
   "mimetype": "text/x-python",
   "name": "python",
   "nbconvert_exporter": "python",
   "pygments_lexer": "ipython3",
   "version": "3.6.10"
  }
 },
 "nbformat": 4,
 "nbformat_minor": 4
}
