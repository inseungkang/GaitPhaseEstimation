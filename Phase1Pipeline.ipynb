{
 "cells": [
  {
   "cell_type": "markdown",
   "metadata": {},
   "source": [
    "## Phase 1 Pipeline"
   ]
  },
  {
   "cell_type": "markdown",
   "metadata": {},
   "source": [
    "#### Setup"
   ]
  },
  {
   "cell_type": "code",
   "execution_count": null,
   "metadata": {},
   "outputs": [],
   "source": [
    "from model_training import *\n",
    "from data_processing import *\n",
    "import pandas as pd\n",
    "from numpy.random import seed\n",
    "import tensorflow as tf"
   ]
  },
  {
   "cell_type": "code",
   "execution_count": null,
   "metadata": {},
   "outputs": [],
   "source": [
    "# Seed Random Number Generators for Reproducibility\n",
    "seed(1)\n",
    "tf.random.set_seed(seed=5)"
   ]
  },
  {
   "cell_type": "markdown",
   "metadata": {},
   "source": [
    "#### Configure Hyperparameter Search Space"
   ]
  },
  {
   "cell_type": "code",
   "execution_count": null,
   "metadata": {},
   "outputs": [],
   "source": [
    "hyperparam_space = {\n",
    "    'window_size': [20],\n",
    "    'model': 'lstm',\n",
    "    'lstm': {\n",
    "      'units': [30],\n",
    "      'activation': ['relu']\n",
    "    },\n",
    "    'dense': {\n",
    "        'activation': ['tanh']\n",
    "    },\n",
    "    'optimizer': {\n",
    "        'loss': ['mean_absolute_error'],\n",
    "        'optimizer': ['adam']\n",
    "    },\n",
    "    'training': {\n",
    "        'epochs': [10],\n",
    "        'batch_size': [128]\n",
    "    }\n",
    "}\n",
    "\n",
    "hyperparameter_configs = get_model_configs(hyperparam_space)"
   ]
  },
  {
   "cell_type": "markdown",
   "metadata": {},
   "source": [
    "#### Load Data"
   ]
  },
  {
   "cell_type": "code",
   "execution_count": null,
   "metadata": {},
   "outputs": [],
   "source": [
    "data = import_data()\n",
    "data = label_data(data)\n",
    "data_list = cut_data(data)"
   ]
  },
  {
   "cell_type": "markdown",
   "metadata": {},
   "source": [
    "#### Train Models"
   ]
  },
  {
   "cell_type": "code",
   "execution_count": null,
   "metadata": {},
   "outputs": [],
   "source": [
    "trial_results, average_results = train_models(hyperparam_space['model'], hyperparameter_configs, data_list)"
   ]
  },
  {
   "cell_type": "markdown",
   "metadata": {},
   "source": [
    "#### View Results"
   ]
  },
  {
   "cell_type": "code",
   "execution_count": null,
   "metadata": {},
   "outputs": [],
   "source": [
    "display(average_results)"
   ]
  },
  {
   "cell_type": "code",
   "execution_count": null,
   "metadata": {},
   "outputs": [],
   "source": [
    "display(trial_results)"
   ]
  },
  {
   "cell_type": "markdown",
   "metadata": {},
   "source": [
    "#### Example Hyperparameter Search Space Configs"
   ]
  },
  {
   "cell_type": "code",
   "execution_count": null,
   "metadata": {},
   "outputs": [],
   "source": [
    "## LSTM Model\n",
    "# hyperparam_space = {\n",
    "#     'window_size': [20],\n",
    "#     'model': 'lstm',\n",
    "#     'lstm': {\n",
    "#       'units': [30],\n",
    "#       'activation': ['relu']\n",
    "#     },\n",
    "#     'dense': {\n",
    "#         'activation': ['tanh']\n",
    "#     },\n",
    "#     'optimizer': {\n",
    "#         'loss': ['mean_absolute_error'],\n",
    "#         'optimizer': ['adam']\n",
    "#     },\n",
    "#     'training': {\n",
    "#         'epochs': [10],\n",
    "#         'batch_size': [128]\n",
    "#     }\n",
    "# }\n",
    "\n",
    "## CNN Model\n",
    "# hyperparam_space = {\n",
    "#     'window_size': [20],\n",
    "#     'model': 'cnn',\n",
    "#     'cnn': {\n",
    "#       'kernel_size': [10],\n",
    "#       'activation': ['relu']\n",
    "#     },\n",
    "#     'dense': {\n",
    "#         'activation': ['tanh']\n",
    "#     },\n",
    "#     'optimizer': {\n",
    "#         'loss': ['mean_absolute_error'],\n",
    "#         'optimizer': ['adam']\n",
    "#     },\n",
    "#     'training': {\n",
    "#         'epochs': [10],\n",
    "#         'batch_size': [128]\n",
    "#     }\n",
    "# }\n",
    "\n",
    "## MLP Model\n",
    "# hyperparam_space = {\n",
    "#     'window_size': [20],\n",
    "#     'model': 'mlp',\n",
    "#     'dense': {\n",
    "#         'num_layers': [10, 20],\n",
    "#         'num_nodes': [5, 10],\n",
    "#         'activation': ['tanh']\n",
    "#     },\n",
    "#     'optimizer': {\n",
    "#         'loss': ['mean_absolute_error'],\n",
    "#         'optimizer': ['adam']\n",
    "#     },\n",
    "#     'training': {\n",
    "#         'epochs': [10],\n",
    "#         'batch_size': [128]\n",
    "#     }\n",
    "# }"
   ]
  }
 ],
 "metadata": {
  "kernelspec": {
   "display_name": "Python 3",
   "language": "python",
   "name": "python3"
  },
  "language_info": {
   "codemirror_mode": {
    "name": "ipython",
    "version": 3
   },
   "file_extension": ".py",
   "mimetype": "text/x-python",
   "name": "python",
   "nbconvert_exporter": "python",
   "pygments_lexer": "ipython3",
   "version": "3.6.10"
  }
 },
 "nbformat": 4,
 "nbformat_minor": 4
}
