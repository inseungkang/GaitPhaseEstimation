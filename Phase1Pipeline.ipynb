{
 "cells": [
  {
   "cell_type": "markdown",
   "metadata": {},
   "source": [
    "## Phase 1 Pipeline"
   ]
  },
  {
   "cell_type": "code",
   "execution_count": 1,
   "metadata": {},
   "outputs": [],
   "source": [
    "from model_training import *"
   ]
  },
  {
   "cell_type": "code",
   "execution_count": 8,
   "metadata": {},
   "outputs": [],
   "source": [
    "hyperparam_space = {\n",
    "    'window_size': [180],\n",
    "    'model': 'lstm',\n",
    "    'lstm': {\n",
    "      'units': [10],\n",
    "      'activation': ['relu'],\n",
    "      'recurrent_regularizer': ['l2'],\n",
    "      'kernel_regularizer': ['l2']\n",
    "    },\n",
    "    'dense': {\n",
    "        'activation': ['tanh'],\n",
    "        'kernel_regularizer': ['l2']\n",
    "    },\n",
    "    'optimizer': {\n",
    "        'loss': ['mean_absolute_error'],\n",
    "        'optimizer': ['adam']\n",
    "    }\n",
    "}"
   ]
  },
  {
   "cell_type": "code",
   "execution_count": 9,
   "metadata": {},
   "outputs": [
    {
     "name": "stdout",
     "output_type": "stream",
     "text": [
      "[{'window_size': 180, 'dense': {'activation': 'tanh', 'kernel_regularizer': 'l2'}, 'optimizer': {'loss': 'mean_absolute_error', 'optimizer': 'adam'}, 'lstm': {'units': 10, 'activation': 'relu', 'recurrent_regularizer': 'l2', 'kernel_regularizer': 'l2'}}]\n"
     ]
    }
   ],
   "source": [
    "hyperparameter_configs = get_model_configs(hyperparam_space)\n",
    "print(hyperparameter_configs)"
   ]
  }
 ],
 "metadata": {
  "kernelspec": {
   "display_name": "Python 3",
   "language": "python",
   "name": "python3"
  },
  "language_info": {
   "codemirror_mode": {
    "name": "ipython",
    "version": 3
   },
   "file_extension": ".py",
   "mimetype": "text/x-python",
   "name": "python",
   "nbconvert_exporter": "python",
   "pygments_lexer": "ipython3",
   "version": "3.6.10"
  }
 },
 "nbformat": 4,
 "nbformat_minor": 4
}
